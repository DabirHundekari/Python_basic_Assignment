{
 "cells": [
  {
   "cell_type": "markdown",
   "id": "b608824e",
   "metadata": {},
   "source": [
    "# 1) . What is the difference between enclosing a list comprehension in square brackets and parentheses?"
   ]
  },
  {
   "cell_type": "markdown",
   "id": "77c5ac66",
   "metadata": {},
   "source": [
    "* A list comprehension enclosed in square brackets returns a list of results:"
   ]
  },
  {
   "cell_type": "markdown",
   "id": "a1282744",
   "metadata": {},
   "source": [
    "result = [x for x in range(5)]\n",
    "print(result)  # [0, 1, 2, 3, 4]\n"
   ]
  },
  {
   "cell_type": "markdown",
   "id": "ffa43b31",
   "metadata": {},
   "source": [
    "While a list comprehension enclosed in parentheses returns a generator object"
   ]
  },
  {
   "cell_type": "code",
   "execution_count": 2,
   "id": "72c38828",
   "metadata": {},
   "outputs": [
    {
     "name": "stdout",
     "output_type": "stream",
     "text": [
      "<generator object <genexpr> at 0x00000149C4A2A730>\n"
     ]
    }
   ],
   "source": [
    "result = (x for x in range(5))\n",
    "print(result)  # <generator object <genexpr> at 0x7f03a191b2e0>\n"
   ]
  },
  {
   "cell_type": "markdown",
   "id": "d92066a3",
   "metadata": {},
   "source": [
    "The main difference between a list and a generator is that a list stores all its elements in memory, while a generator produces elements on the fly as they are needed, and does not store all of its elements in memory at once."
   ]
  },
  {
   "cell_type": "markdown",
   "id": "09daba01",
   "metadata": {},
   "source": [
    "# 2) What is the relationship between generators and iterators?"
   ]
  },
  {
   "cell_type": "markdown",
   "id": "7522cec9",
   "metadata": {},
   "source": [
    "* n iterator is an object that implements the iterator protocol, which consists of the iter() and next() methods, allowing it to be iterated over using a for loop or a next() function.\n",
    "* A generator is a type of iterator that generates values on-the-fly using the yield statement instead of returning them all at once. Generators are defined using a function, and each time the next() method is called on the generator object, it resumes execution from where it left off and continues until the next yield statement is encountered. This allows generators to be very memory-efficient for iterating over large or infinite sequences."
   ]
  },
  {
   "cell_type": "markdown",
   "id": "8fa7304f",
   "metadata": {},
   "source": [
    "# 3) What are the signs that a function is a generator function?"
   ]
  },
  {
   "cell_type": "markdown",
   "id": "9ce6a7d1",
   "metadata": {},
   "source": [
    "There are two main signs that a function is a generator function:\n",
    "\n",
    "1. The function contains the `yield` keyword: A generator function includes at least one `yield` statement that specifies the value to be generated.\n",
    "\n",
    "2. The function uses the `return` keyword differently: Unlike regular functions that use the `return` statement to return a value and terminate the function, generator functions use the `yield` keyword to generate a value and pause the function. The `return` statement is used to terminate the function and raise a `StopIteration` exception to signal that there are no more values to generate."
   ]
  },
  {
   "cell_type": "markdown",
   "id": "2819762d",
   "metadata": {},
   "source": [
    "# 4) What is the purpose of a yield statement?"
   ]
  },
  {
   "cell_type": "markdown",
   "id": "31806232",
   "metadata": {},
   "source": [
    "* The purpose of the `yield` statement in Python is to create a generator function that returns an iterator object. It allows the function to generate a sequence of values and pause its execution state, which can be resumed later on when the next value is requested. This is useful when generating large sequences of data where it's not practical to store all the values in memory at once."
   ]
  },
  {
   "cell_type": "markdown",
   "id": "78b22d47",
   "metadata": {},
   "source": [
    "# 5) What is the relationship between map calls and list comprehensions? Make a comparison and contrast between the two."
   ]
  },
  {
   "cell_type": "markdown",
   "id": "87a10c60",
   "metadata": {},
   "source": [
    "* Both `map()` and list comprehensions provide ways to apply a function to every item in a sequence and return a new sequence with the results. However, `map()` returns a map object that needs to be converted to a list or tuple to see the results, while list comprehensions return a list directly. List comprehensions are generally more concise and easier to read, but `map()` can be more memory-efficient for large datasets since it produces an iterator rather than creating a new list in memory."
   ]
  }
 ],
 "metadata": {
  "kernelspec": {
   "display_name": "Python 3 (ipykernel)",
   "language": "python",
   "name": "python3"
  },
  "language_info": {
   "codemirror_mode": {
    "name": "ipython",
    "version": 3
   },
   "file_extension": ".py",
   "mimetype": "text/x-python",
   "name": "python",
   "nbconvert_exporter": "python",
   "pygments_lexer": "ipython3",
   "version": "3.10.9"
  }
 },
 "nbformat": 4,
 "nbformat_minor": 5
}
