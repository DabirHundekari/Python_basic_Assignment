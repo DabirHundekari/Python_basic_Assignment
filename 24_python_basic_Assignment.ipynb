{
 "cells": [
  {
   "cell_type": "markdown",
   "id": "bf89ee62",
   "metadata": {},
   "source": [
    "# 1. What is the relationship between def statements and lambda expressions ?"
   ]
  },
  {
   "cell_type": "markdown",
   "id": "bce9b483",
   "metadata": {},
   "source": [
    "Both def statements and lambda expressions in Python are used to define functions. However, there are some differences between the two.\n",
    "\n",
    "Def statements are used to define a named function in Python. A named function is created using the `def` keyword, followed by the function name, and a set of parentheses that can contain the function parameters. A function block is indented below the definition line and contains the function code.\n",
    "\n",
    "Lambda expressions are a way of creating anonymous functions in Python. An anonymous function is a function that is defined without a name. It is created using the `lambda` keyword, followed by the function parameters, separated by commas, and a colon. The code that should be executed when the function is called is then defined after the colon.\n",
    "\n",
    "The main difference between def statements and lambda expressions is that def statements can include multiple statements and have a return statement, whereas lambda expressions can only have one expression and that expression is returned by default."
   ]
  },
  {
   "cell_type": "markdown",
   "id": "01c0495f",
   "metadata": {},
   "source": [
    "# 2. What is the benefit of lambda?"
   ]
  },
  {
   "cell_type": "markdown",
   "id": "a851da95",
   "metadata": {},
   "source": [
    "The benefits of lambda expressions are:\n",
    "\n",
    "1. Conciseness: Lambda functions are concise and can be defined in a single line of code, making the code easier to read and write.\n",
    "\n",
    "2. Readability: They can help make code more readable when passing small functions as arguments to other functions.\n",
    "\n",
    "3. Flexibility: Lambda functions are very flexible and can be used in many different ways, such as in filter(), map() and reduce() functions, sorting lists, and as key functions in sort().\n",
    "\n",
    "4. Efficiency: Lambda functions are efficient because they are usually faster than regular functions. They do not create a new object like a function does, so they use less memory and run faster.\n",
    "\n",
    "5. Clarity: They can make code more clear and understandable by removing the need for named functions that may never be used again."
   ]
  },
  {
   "cell_type": "markdown",
   "id": "e19c5bb4",
   "metadata": {},
   "source": [
    "# 3. Compare and contrast map, filter, and reduce."
   ]
  },
  {
   "cell_type": "markdown",
   "id": "90fa3c55",
   "metadata": {},
   "source": [
    "* map(function, iterable) applies a given function to each item in an iterable and returns a new iterator with the transformed items. The map() function takes a function and applies it to each element in an iterable, such as a list or tuple. It returns a new iterator with the results of the function applied to each element."
   ]
  },
  {
   "cell_type": "code",
   "execution_count": 1,
   "id": "a4edca63",
   "metadata": {},
   "outputs": [
    {
     "name": "stdout",
     "output_type": "stream",
     "text": [
      "[1, 4, 9, 16, 25]\n"
     ]
    }
   ],
   "source": [
    "# Use map to create a new list with the squared values of a given list\n",
    "original_list = [1, 2, 3, 4, 5]\n",
    "new_list = list(map(lambda x: x**2, original_list))\n",
    "print(new_list)\n",
    "# Output: [1, 4, 9, 16, 25]\n"
   ]
  },
  {
   "cell_type": "markdown",
   "id": "d2fc436c",
   "metadata": {},
   "source": [
    "* filter(function, iterable) takes a function and applies it to each element in an iterable, filtering out only the elements for which the function returns True. It returns a new iterator with the filtered items."
   ]
  },
  {
   "cell_type": "code",
   "execution_count": 2,
   "id": "16e8e2e3",
   "metadata": {},
   "outputs": [
    {
     "name": "stdout",
     "output_type": "stream",
     "text": [
      "[2, 4]\n"
     ]
    }
   ],
   "source": [
    "# Use filter to return only the even numbers in a given list\n",
    "original_list = [1, 2, 3, 4, 5]\n",
    "new_list = list(filter(lambda x: x%2 == 0, original_list))\n",
    "print(new_list)\n",
    "# Output: [2, 4]\n"
   ]
  },
  {
   "cell_type": "markdown",
   "id": "bae451a5",
   "metadata": {},
   "source": [
    "* reduce(function, iterable) applies a function of two arguments cumulatively to the items of an iterable, so as to reduce the iterable to a single value. It returns a single value."
   ]
  },
  {
   "cell_type": "code",
   "execution_count": 3,
   "id": "5728335f",
   "metadata": {},
   "outputs": [
    {
     "name": "stdout",
     "output_type": "stream",
     "text": [
      "15\n"
     ]
    }
   ],
   "source": [
    "# Use reduce to compute the sum of a given list\n",
    "from functools import reduce\n",
    "original_list = [1, 2, 3, 4, 5]\n",
    "result = reduce(lambda x, y: x + y, original_list)\n",
    "print(result)\n",
    "# Output: 15\n"
   ]
  },
  {
   "cell_type": "markdown",
   "id": "b09d962c",
   "metadata": {},
   "source": [
    "# 4. What are function annotations, and how are they used?"
   ]
  },
  {
   "cell_type": "markdown",
   "id": "d841e45c",
   "metadata": {},
   "source": [
    "* Function annotations are a feature in Python that allow you to attach metadata to the parameters and return value of a function. Function annotations are specified by adding a colon (:) after the parameter name, followed by the annotation. Multiple annotations can be separated by commas."
   ]
  },
  {
   "cell_type": "code",
   "execution_count": 4,
   "id": "d9c6de64",
   "metadata": {},
   "outputs": [],
   "source": [
    "def greet(name: str, age: int) -> str:\n",
    "    return \"Hello, {0}. You are {1} years old.\".format(name, age)\n"
   ]
  },
  {
   "cell_type": "markdown",
   "id": "ad672a36",
   "metadata": {},
   "source": [
    "# 5. What are recursive functions, and how are they used?"
   ]
  },
  {
   "cell_type": "markdown",
   "id": "4bbfd84c",
   "metadata": {},
   "source": [
    "* A recursive function is a function that calls itself within its own definition. It is a way to solve problems by breaking them down into smaller, simpler sub-problems that can be solved with the same algorithm. The recursive function calls itself with different input parameters until it reaches a base case, which is a condition that stops the recursion.\n",
    "\n",
    "* Recursive functions are used in many programming applications, such as searching and sorting algorithms, tree and graph traversal, and mathematical calculations such as factorials and Fibonacci sequences.\n",
    "\n",
    "* One important thing to keep in mind when using recursive functions is to ensure that there is a base case that will eventually end the recursion, otherwise the function will keep calling itself indefinitely and cause a stack overflow error. Additionally, recursive functions may use more memory and processing power compared to iterative solutions, so they may not always be the most efficient approach."
   ]
  },
  {
   "cell_type": "markdown",
   "id": "3732cd8e",
   "metadata": {},
   "source": [
    "# 6. What are some general design guidelines for coding functions?"
   ]
  },
  {
   "cell_type": "markdown",
   "id": "a131dd69",
   "metadata": {},
   "source": [
    "Here are some general design guidelines for coding functions:\n",
    "\n",
    "1. Functions should do one thing and do it well. Each function should have a clear and specific purpose.\n",
    "2. Functions should be small and easy to read. Ideally, a function should fit on one screen without scrolling.\n",
    "3. Functions should have descriptive names that accurately describe what they do.\n",
    "4. Functions should have input parameters that are easy to understand and use.\n",
    "5. Functions should return a value if they are designed to do so.\n",
    "6. Functions should have error handling and produce meaningful error messages.\n",
    "7. Functions should have clear documentation that explains what they do, what parameters they take, and what they return.\n",
    "8. Functions should be designed to be modular and reusable in other parts of the code.\n",
    "9. Functions should not have side effects or modify global variables unless they are specifically designed to do so.\n",
    "10. Functions should be tested thoroughly to ensure that they work as expected.\n"
   ]
  },
  {
   "cell_type": "markdown",
   "id": "ff26f159",
   "metadata": {},
   "source": [
    "# 7. Name three or more ways that functions can communicate results to a caller."
   ]
  },
  {
   "cell_type": "markdown",
   "id": "beffb277",
   "metadata": {},
   "source": [
    "Functions can communicate results to a caller in several ways:\n",
    "\n",
    "1. Return Statement: A function can use a `return` statement to send a result back to the caller. The `return` statement ends the function execution and sends a value back to the caller.\n",
    "\n",
    "2. Global Variables: Functions can use global variables to communicate with the caller. By using global variables, the function can set values that the caller can then access after the function has returned.\n",
    "\n",
    "3. Output Parameters: Functions can also use output parameters to communicate results back to the caller. Output parameters are arguments that are passed to the function by reference, and the function can set their values. When the function returns, the caller can access the updated values of the output parameters.\n",
    "\n",
    "4. Exceptions: Functions can raise exceptions to communicate errors or exceptional conditions back to the caller. When an exception is raised, the function stops executing and the exception is passed back to the caller. The caller can then handle the exception as appropriate. \n",
    "\n",
    "5. Print Statements: Functions can also communicate results to the caller by printing them to the console. However, this is generally not the recommended way to communicate results since it can be harder to process the output programmatically."
   ]
  }
 ],
 "metadata": {
  "kernelspec": {
   "display_name": "Python 3 (ipykernel)",
   "language": "python",
   "name": "python3"
  },
  "language_info": {
   "codemirror_mode": {
    "name": "ipython",
    "version": 3
   },
   "file_extension": ".py",
   "mimetype": "text/x-python",
   "name": "python",
   "nbconvert_exporter": "python",
   "pygments_lexer": "ipython3",
   "version": "3.10.9"
  }
 },
 "nbformat": 4,
 "nbformat_minor": 5
}
