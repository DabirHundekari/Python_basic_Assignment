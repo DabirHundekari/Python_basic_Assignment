{
 "cells": [
  {
   "cell_type": "markdown",
   "id": "f0ad7508",
   "metadata": {},
   "source": [
    "1. In the below elements which of them are values or an expression? eg:- values can be\n",
    "integer or string and expressions will be mathematical operators.\n",
    "\n",
    "ans)\n",
    "\n",
    "'hello' (a string)\n",
    "\n",
    "-87.8 (a floating-point number)\n",
    "\n",
    "6 (an integer)\n",
    "\n",
    " (-) (subtraction/negation).\n",
    " (*)(multiplication).\n",
    " (/) (division).\n",
    " (+)(addition)."
   ]
  },
  {
   "cell_type": "markdown",
   "id": "00e9c985",
   "metadata": {},
   "source": [
    "2. What is the difference between string and variable?\n",
    "A string and a variable are two different concepts in programming.\n",
    "\n",
    "A string is a data type used to represent text. It is a sequence of characters enclosed in quotes, either single or double quotes. For example, \"hello\" and 'world' are strings.\n",
    "\n",
    "A variable, on the other hand, is a named storage location in a program that can hold a value of a certain data type. It is used to store and manipulate data in a program. Variables can hold different types of values, including strings, numbers, and boolean values.\n",
    "\n",
    "In other words, a string is a specific type of data, while a variable is a container for data that can hold different types of values, including strings. You can assign a string to a variable, and then manipulate the variable as needed. For example:\n",
    "    \n",
    "my_string = \"hello\"\n",
    "print(my_string)  \n",
    "\n",
    "my_string is variable & \"hello\" is string \n",
    "\n"
   ]
  },
  {
   "cell_type": "markdown",
   "id": "e5201d51",
   "metadata": {},
   "source": [
    "3. Describe three different data types.\n",
    "In programming, there are several different data types that are used to represent different types of values. Here are three common data types:\n",
    "\n",
    "1). Integer: An integer is a whole number that can be positive, negative, or zero. In most programming languages, integers are represented using the \"int\" data type. Examples of integers include 0, 1, -5, and 10.\n",
    "\n",
    "2). String: A string is a sequence of characters that represents text. In most programming languages, strings are represented using the \"str\" data type. Strings are typically enclosed in quotes, either single or double quotes. Examples of strings include \"hello\", \"world\", and \"123\".\n",
    "\n",
    "3). Boolean: A boolean is a data type that represents a binary value, typically true or false. In most programming languages, booleans are represented using the \"bool\" data type. Booleans are often used in conditional statements and loops to control the flow of a program. Examples of boolean values include true, false, 1, and 0.\n",
    "\n",
    "There are many other data types used in programming, including floating-point numbers, arrays, and objects, each with their own specific characteristics and uses."
   ]
  },
  {
   "cell_type": "markdown",
   "id": "a7d4d15c",
   "metadata": {},
   "source": [
    "4. What is an expression made up of? What do all expressions do?\n",
    "\n",
    "In programming, an expression is a combination of values, variables, operators, and function calls that are evaluated to produce a result. Expressions can be as simple as a single value, or as complex as a multi-level computation involving multiple variables, functions, and operators.\n",
    "\n",
    "Some examples of expressions are:\n",
    "\n",
    "- 3 + 5\n",
    "- \"hello\" + \"world\"\n",
    "- (5 * 2) / 3\n",
    "- my_variable + 1\n",
    "\n",
    "All expressions evaluate to a value, which may be a number, a string, a boolean value, or another data type, depending on the types of values and operators used in the expression. The value of an expression may be used in various ways, such as being assigned to a variable, used as an argument to a function, or printed to the console.\n",
    "\n",
    "Expressions are used extensively in programming to perform calculations, manipulate data, and control the flow of a program. They are a fundamental building block of programming, and understanding how to construct and evaluate expressions is essential for writing effective code.\n"
   ]
  },
  {
   "cell_type": "markdown",
   "id": "12a6f358",
   "metadata": {},
   "source": [
    "5. This assignment statements, like spam = 10. What is the difference between an\n",
    "expression and a statement?\n",
    "\n",
    "In contrast, a statement is a complete unit of code that performs a specific action or operation. A statement can include expressions as part of its syntax, but it also contains other components that define its behavior. Examples of statements include:\n",
    "\n",
    "- Assignment statements, like `spam = 10`\n",
    "- Conditional statements, like `if x < 0:`\n",
    "- Loop statements, like `for i in range(10):`\n",
    "- Function and method definitions, like `def my_function():`\n",
    "\n",
    "So, to answer the question directly, an assignment statement like spam = 10 is a specific type of statement that assigns the value of 10 to the variable spam. It is not an expression, although it includes an expression (10) as part of its syntax. In other words, an assignment statement is a complete unit of code that performs a specific action, while an expression is a component of a statement or can stand alone as a statement."
   ]
  },
  {
   "cell_type": "markdown",
   "id": "461db438",
   "metadata": {},
   "source": [
    "6. After running the following code, what does the variable bacon contain?\n",
    "bacon = 22\n",
    "bacon + 1\n",
    "\n",
    "ans) bacon=23"
   ]
  },
  {
   "cell_type": "markdown",
   "id": "2f5095d1",
   "metadata": {},
   "source": [
    "7. What should the values of the following two terms be?\n",
    "&#39;spam&#39; + &#39;spamspam&#39;\n",
    "&#39;spam&#39; * 3\n",
    "\n",
    "ans) 'spamspamspam'.\n",
    "\n",
    "\n",
    "\n",
    "\n"
   ]
  },
  {
   "cell_type": "markdown",
   "id": "da6f7776",
   "metadata": {},
   "source": [
    "8. Why is eggs a valid variable name while 100 is invalid?\n",
    "\n",
    "In Python, variable names must follow certain rules to be valid. The rules are:\n",
    "\n",
    "1. Variable names must start with a letter (a-z or A-Z) or an underscore (_).\n",
    "2. The rest of the variable name can contain letters, numbers (0-9), or underscores (_).\n",
    "3. Variable names are case-sensitive, so 'spam' and 'SPAM' are different variables.\n",
    "\n",
    "Based on these rules, `eggs` is a valid variable name because it starts with a letter and contains only letters and/or underscores. It does not conflict with any Python keywords or built-in functions.\n",
    "\n",
    "On the other hand, `100` is not a valid variable name because it starts with a number, which is not allowed according to the first rule. Variable names cannot start with a number in Python. \n",
    "\n",
    "However, it is still possible to use `100` as part of a variable name, such as `spam100` or `variable_100`, as long as it follows the other rules for valid variable names."
   ]
  },
  {
   "cell_type": "markdown",
   "id": "2c7f5273",
   "metadata": {},
   "source": [
    "9. What three functions can be used to get the integer, floating-point number, or string\n",
    "version of a value?\n",
    "\n",
    "int(3.5)   # returns 3,\n",
    "int(\"42\")  # returns 42\n",
    "\n",
    "float(3)    # returns 3.0,\n",
    "float(\"3.5\")  # returns 3.5\n",
    "\n",
    "str(42)      # returns \"42\",\n",
    "str(3.14159) # returns \"3.14159\"\n",
    "\n"
   ]
  },
  {
   "cell_type": "markdown",
   "id": "36aaf923",
   "metadata": {},
   "source": [
    "10. Why does this expression cause an error? How can you fix it?\n",
    "&#39;I have eaten &#39; + 99 + &#39; burritos.&#39;\n",
    "\n",
    "This expression causes an error because it is trying to concatenate a string ('I have eaten ') with,\n",
    "an integer (99) without converting the integer to a string first.\n",
    "'I have eaten ' + str(99) + ' burritos.'\n",
    "##\"I have eaten 99 burritos.\""
   ]
  }
 ],
 "metadata": {
  "kernelspec": {
   "display_name": "Python 3 (ipykernel)",
   "language": "python",
   "name": "python3"
  },
  "language_info": {
   "codemirror_mode": {
    "name": "ipython",
    "version": 3
   },
   "file_extension": ".py",
   "mimetype": "text/x-python",
   "name": "python",
   "nbconvert_exporter": "python",
   "pygments_lexer": "ipython3",
   "version": "3.10.9"
  }
 },
 "nbformat": 4,
 "nbformat_minor": 5
}
